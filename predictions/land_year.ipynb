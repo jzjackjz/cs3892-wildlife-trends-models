{
 "cells": [
  {
   "cell_type": "code",
   "execution_count": 6,
   "metadata": {},
   "outputs": [],
   "source": [
    "import csv\n",
    "import operator\n",
    "import matplotlib.pyplot as plt\n",
    "import numpy as np\n",
    "import scipy as sc\n",
    "import pandas as pd\n",
    "import seaborn as sns\n",
    "from sklearn.model_selection import train_test_split\n",
    "from sklearn.metrics import mean_squared_error\n",
    "from sklearn.preprocessing import PolynomialFeatures\n",
    "from sklearn.linear_model import LinearRegression"
   ]
  },
  {
   "cell_type": "code",
   "execution_count": 9,
   "metadata": {},
   "outputs": [],
   "source": [
    "df = pd.read_csv('../datasets/land-use-over-the-long-term.csv')\n",
    "land_use_columns = ['Land use: Built-up area', 'Land use: Grazingland', 'Land use: Cropland']\n",
    "degree = 3\n",
    "future_years = np.arange(2024, 2125)\n",
    "all_predictions = []\n",
    "\n",
    "for country in df['Entity'].unique():\n",
    "    country_predictions = {'Entity': country}\n",
    "    \n",
    "    for year in future_years:\n",
    "        country_predictions['Year'] = year\n",
    "        \n",
    "        for land_use_type in land_use_columns:\n",
    "            country_df = df[(df['Entity'] == country)]\n",
    "            \n",
    "            X = country_df['Year'].values.reshape(-1, 1)\n",
    "            y = country_df[land_use_type].values\n",
    "            \n",
    "            poly = PolynomialFeatures(degree=degree)\n",
    "            X_poly = poly.fit_transform(X)\n",
    "            \n",
    "            model = LinearRegression()\n",
    "            model.fit(X_poly, y)\n",
    "            \n",
    "            year_poly = poly.transform(np.array([[year]]))\n",
    "            prediction = model.predict(year_poly)[0]\n",
    "            \n",
    "            country_predictions[land_use_type] = prediction\n",
    "        \n",
    "        all_predictions.append(country_predictions.copy())\n",
    "\n",
    "predictions_df = pd.DataFrame(all_predictions)\n",
    "\n",
    "columns_order = ['Entity', 'Year'] + land_use_columns\n",
    "predictions_df = predictions_df[columns_order]\n",
    "\n",
    "csv_file_path = 'land_use_predictions_2024_2124.csv'\n",
    "predictions_df.to_csv(csv_file_path, index=False)"
   ]
  }
 ],
 "metadata": {
  "kernelspec": {
   "display_name": "cs4262",
   "language": "python",
   "name": "cs4262"
  },
  "language_info": {
   "codemirror_mode": {
    "name": "ipython",
    "version": 3
   },
   "file_extension": ".py",
   "mimetype": "text/x-python",
   "name": "python",
   "nbconvert_exporter": "python",
   "pygments_lexer": "ipython3",
   "version": "3.10.13"
  }
 },
 "nbformat": 4,
 "nbformat_minor": 2
}
