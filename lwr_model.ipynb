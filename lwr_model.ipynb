{
 "cells": [
  {
   "cell_type": "code",
   "execution_count": 1,
   "metadata": {},
   "outputs": [],
   "source": [
    "import csv\n",
    "import matplotlib.pyplot as plt\n",
    "from matplotlib.colors import ListedColormap\n",
    "import numpy as np\n",
    "import scipy as sp\n",
    "import pandas as pd\n",
    "import seaborn as sns"
   ]
  },
  {
   "cell_type": "code",
   "execution_count": null,
   "metadata": {},
   "outputs": [],
   "source": [
    "class LocallyWeightedLR():\n",
    "    \n",
    "    def __init__(self, X, y, tau):\n",
    "        self.X = X\n",
    "        self.y = y\n",
    "        self.tau = tau \n",
    "        \n",
    "    # use bandwidth variable tau to compute weights for each training point.  \n",
    "    # return a diagonal matrix with w_i on the diagonal (for vectorization)\n",
    "    # note that the values of w_i depend upon the value of the input query point x.\n",
    "    def compute_weights(self, x):\n",
    "        m = self.X.shape[0]\n",
    "        W = np.eye(m)\n",
    "        x = np.hstack((1, x))\n",
    "        \n",
    "        for i in range(m):\n",
    "            diff = self.X[i] - x\n",
    "            W[i, i] = np.exp(-diff.T.dot(diff) / (2 * self.tau ** 2))\n",
    "            \n",
    "        return W\n",
    "    \n",
    "    # analytical solution for the local linear regression parameters at the input query point x.\n",
    "    # this should involve calling the above method compute_weights.\n",
    "    def compute_theta(self, x):\n",
    "        W = self.compute_weights(x)\n",
    "        x = np.hstack((1, x))\n",
    "        XTWX = self.X.T.dot(W).dot(self.X)\n",
    "        theta = np.linalg.inv(XTWX).dot(self.X.T).dot(W).dot(self.y)\n",
    "        return theta\n",
    "    \n",
    "    # prediction for an input x\n",
    "    # also return the local linear regression parameters (theta) for this x.\n",
    "    def predict(self, x):\n",
    "        theta = self.compute_theta(x)\n",
    "        x = np.hstack((1, x))\n",
    "        prediction = x.dot(theta)\n",
    "        return prediction, theta"
   ]
  }
 ],
 "metadata": {
  "kernelspec": {
   "display_name": "cs4262",
   "language": "python",
   "name": "python3"
  },
  "language_info": {
   "codemirror_mode": {
    "name": "ipython",
    "version": 3
   },
   "file_extension": ".py",
   "mimetype": "text/x-python",
   "name": "python",
   "nbconvert_exporter": "python",
   "pygments_lexer": "ipython3",
   "version": "3.10.13"
  }
 },
 "nbformat": 4,
 "nbformat_minor": 2
}
