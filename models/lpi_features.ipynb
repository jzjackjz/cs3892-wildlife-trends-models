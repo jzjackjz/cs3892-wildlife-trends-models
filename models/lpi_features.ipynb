{
 "cells": [
  {
   "cell_type": "code",
   "execution_count": 1,
   "metadata": {},
   "outputs": [],
   "source": [
    "from IPython.core.interactiveshell import InteractiveShell\n",
    "InteractiveShell.ast_node_interactivity = \"all\"\n",
    "\n",
    "import pandas as pd\n",
    "import numpy as np\n",
    "import matplotlib.pyplot as plt\n",
    "import torch\n",
    "from torch import cuda\n",
    "import torch.nn as nn\n",
    "from torch.utils.data import TensorDataset, DataLoader, sampler\n",
    "import torch.nn.functional as F\n",
    "from torch_utils import AverageMeter\n",
    "import math\n",
    "import matplotlib.pyplot as plt\n",
    "from sklearn.metrics import mean_squared_error\n",
    "from numpy import inf\n",
    "from merge_datasets import MergeDatasets\n",
    "from merge_features import MergeFeatures\n",
    "from sklearn.preprocessing import StandardScaler\n",
    "from joblib import load\n",
    "\n",
    "from sklearn.model_selection import train_test_split\n",
    "from glob import glob\n",
    "from torchvision import transforms\n",
    "from torchvision import datasets\n",
    "from torchvision import models\n",
    "from torch import optim, cuda, Tensor\n",
    "\n",
    "import numpy as np\n",
    "import os\n",
    "from PIL import Image\n",
    "from timeit import default_timer as timer\n",
    "import matplotlib.pyplot as plt\n",
    "\n",
    "import warnings\n",
    "warnings.filterwarnings('ignore', category=FutureWarning)"
   ]
  },
  {
   "cell_type": "code",
   "execution_count": 2,
   "metadata": {},
   "outputs": [],
   "source": [
    "# define multi-layer perceptron deep neural network model\n",
    "# network includes two linear layers, one Relu layer, and one dropout layer\n",
    "class MLP(nn.Module):\n",
    "    def __init__(self, input_d, hidden_d, output_d):\n",
    "        super().__init__()\n",
    "\n",
    "        self.linear1 = nn.Linear(input_d, hidden_d)\n",
    "        self.linear2 = nn.Linear(hidden_d, output_d)\n",
    "        self.dropout = nn.Dropout(0.5)\n",
    "\n",
    "    def forward(self, x):\n",
    "\n",
    "        x = self.linear1(x)\n",
    "        x = F.relu(x)\n",
    "        x = self.dropout(x)\n",
    "        x = self.linear2(x)\n",
    "\n",
    "        return x"
   ]
  },
  {
   "cell_type": "code",
   "execution_count": 3,
   "metadata": {},
   "outputs": [
    {
     "data": {
      "text/plain": [
       "<All keys matched successfully>"
      ]
     },
     "execution_count": 3,
     "metadata": {},
     "output_type": "execute_result"
    },
    {
     "data": {
      "text/plain": [
       "MLP(\n",
       "  (linear1): Linear(in_features=13, out_features=64, bias=True)\n",
       "  (linear2): Linear(in_features=64, out_features=1, bias=True)\n",
       "  (dropout): Dropout(p=0.5, inplace=False)\n",
       ")"
      ]
     },
     "execution_count": 3,
     "metadata": {},
     "output_type": "execute_result"
    }
   ],
   "source": [
    "input_d = 13\n",
    "hidden_d = 64\n",
    "output_d = 1\n",
    "\n",
    "model = MLP(input_d, hidden_d, output_d)\n",
    "model.load_state_dict(torch.load('model_state.pth'))\n",
    "model.eval()"
   ]
  },
  {
   "cell_type": "code",
   "execution_count": 4,
   "metadata": {},
   "outputs": [
    {
     "name": "stderr",
     "output_type": "stream",
     "text": [
      "/Users/jackzhang/anaconda3/envs/cs4262/lib/python3.10/site-packages/pycountry/db.py:51: UserWarning: Country's official_name not found. Country name provided instead.\n",
      "  warnings.warn(warning_message, UserWarning)\n",
      "/Users/jackzhang/anaconda3/envs/cs4262/lib/python3.10/site-packages/pycountry/db.py:51: UserWarning: Country's common_name not found. Country name provided instead.\n",
      "  warnings.warn(warning_message, UserWarning)\n"
     ]
    }
   ],
   "source": [
    "co2_df = pd.read_csv('../predictions/co2_concentrations_predictions_2024_2124.csv')\n",
    "forest_df = pd.read_csv('../predictions/forest_area_predictions_2024_2124.csv')\n",
    "land_df = pd.read_csv('../predictions/land_use_predictions_2024_2124.csv')\n",
    "temp_df = pd.read_csv('../predictions/temperature_anomaly_predictions_2024_2124.csv')\n",
    "\n",
    "merged_features = MergeFeatures(co2_df, forest_df, land_df, temp_df)\n",
    "merged_df = merged_features.merge()"
   ]
  },
  {
   "cell_type": "code",
   "execution_count": 5,
   "metadata": {},
   "outputs": [
    {
     "data": {
      "text/plain": [
       "MLP(\n",
       "  (linear1): Linear(in_features=13, out_features=64, bias=True)\n",
       "  (linear2): Linear(in_features=64, out_features=1, bias=True)\n",
       "  (dropout): Dropout(p=0.5, inplace=False)\n",
       ")"
      ]
     },
     "execution_count": 5,
     "metadata": {},
     "output_type": "execute_result"
    }
   ],
   "source": [
    "scaler_X = load('scaler_X.bin')\n",
    "scaler_y = load('scaler_y.bin')\n",
    "\n",
    "X_pred_continuous = merged_df[['Year', 'Predicted CO2', 'Forest area', 'Land use: Built-up area', 'Land use: Grazingland', 'Land use: Cropland', 'Temperature anomaly']].values\n",
    "entities_pred = pd.get_dummies(merged_df['Entity'])\n",
    "unique_entities = ['Africa', 'Asia and Pacific', 'Europe and Central Asia', 'Latin America and the Caribbean', 'North America', 'World']\n",
    "entities_pred = pd.get_dummies(merged_df['Entity'], columns=unique_entities)\n",
    "\n",
    "for entity in unique_entities:\n",
    "    if entity not in entities_pred.columns:\n",
    "        entities_pred[entity] = 0\n",
    "\n",
    "entities_pred = entities_pred[unique_entities]\n",
    "# Merge continuous and categorical features\n",
    "X_pred = np.hstack([X_pred_continuous, entities_pred])\n",
    "\n",
    "# Ensure the number of features in X_pred matches what scaler_X expects\n",
    "X_pred_scaled = scaler_X.transform(X_pred)\n",
    "\n",
    "X_pred_tensor = torch.tensor(X_pred_scaled, dtype=torch.float32)\n",
    "\n",
    "model.eval()\n",
    "with torch.no_grad():\n",
    "    lpi_pred_scaled = model(X_pred_tensor).numpy()\n",
    "\n",
    "lpi_predictions = scaler_y.inverse_transform(lpi_pred_scaled.reshape(-1, 1)).flatten()\n",
    "lpi_predictions_adjusted = np.maximum(lpi_predictions, 0)\n",
    "\n",
    "predictions_df = pd.DataFrame({\n",
    "    'Year': np.arange(2024, 2125),\n",
    "    'Predicted_LPI': lpi_predictions_adjusted\n",
    "})\n",
    "predictions_df.to_csv('predicted_lpi_2024_2124.csv', index=False)"
   ]
  }
 ],
 "metadata": {
  "kernelspec": {
   "display_name": "cs4262",
   "language": "python",
   "name": "cs4262"
  },
  "language_info": {
   "codemirror_mode": {
    "name": "ipython",
    "version": 3
   },
   "file_extension": ".py",
   "mimetype": "text/x-python",
   "name": "python",
   "nbconvert_exporter": "python",
   "pygments_lexer": "ipython3",
   "version": "3.10.13"
  }
 },
 "nbformat": 4,
 "nbformat_minor": 2
}
